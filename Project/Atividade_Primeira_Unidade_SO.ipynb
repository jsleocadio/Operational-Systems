{
  "nbformat": 4,
  "nbformat_minor": 0,
  "metadata": {
    "colab": {
      "provenance": [],
      "include_colab_link": true
    },
    "kernelspec": {
      "name": "python3",
      "display_name": "Python 3"
    },
    "language_info": {
      "name": "python"
    }
  },
  "cells": [
    {
      "cell_type": "markdown",
      "metadata": {
        "id": "view-in-github",
        "colab_type": "text"
      },
      "source": [
        "<a href=\"https://colab.research.google.com/github/jsleocadio/Operational-Systems/blob/main/Project/Atividade_Primeira_Unidade_SO_20210094044.ipynb\" target=\"_parent\"><img src=\"https://colab.research.google.com/assets/colab-badge.svg\" alt=\"Open In Colab\"/></a>"
      ]
    },
    {
      "cell_type": "markdown",
      "source": [
        "#**Referências**\n",
        "\n",
        "**Pycachesim github: https://github.com/RRZE-HPC/pycachesim**\n",
        "\n",
        "**Pycachesim pypi.org: https://pypi.org/project/pycachesim/#description**\n",
        "\n",
        "**Threading docs.python.org: https://docs.python.org/3/library/threading.html**\n",
        "\n",
        "**Threading geeks for geeks: https://www.geeksforgeeks.org/multithreading-in-python-set-2-synchronization/**"
      ],
      "metadata": {
        "id": "csRp_k5cfg6z"
      }
    },
    {
      "cell_type": "markdown",
      "source": [
        "#**Instalação da Biblioteca Pycachesim**"
      ],
      "metadata": {
        "id": "p4c_TmvfA4S-"
      }
    },
    {
      "cell_type": "code",
      "execution_count": 2,
      "metadata": {
        "id": "2DWCkkvL_1Vk",
        "colab": {
          "base_uri": "https://localhost:8080/"
        },
        "outputId": "bd88c7fc-9e8c-4c89-c0e5-c95bace42683"
      },
      "outputs": [
        {
          "output_type": "stream",
          "name": "stdout",
          "text": [
            "Looking in indexes: https://pypi.org/simple, https://us-python.pkg.dev/colab-wheels/public/simple/\n",
            "Requirement already satisfied: pycachesim in /usr/local/lib/python3.8/dist-packages (0.3.1)\n"
          ]
        }
      ],
      "source": [
        "#instalador da biblioteca\n",
        "#utilizado nesse ambiente por não instalar corretamente no pc desktop\n",
        "!pip install pycachesim"
      ]
    },
    {
      "cell_type": "markdown",
      "source": [
        "#**Importando Bibliotecas**"
      ],
      "metadata": {
        "id": "rkCWD32ye-ej"
      }
    },
    {
      "cell_type": "markdown",
      "source": [
        "**Inportando pandas para ler o o arquivo de endereços**\n",
        "\n",
        "**Inportando threading para utilizar as threads**\n",
        "\n",
        "**Inportando cachesim para simular a cache de acordo com os enderecos**\n",
        "\n",
        "**Importando time para verificar tempo de execução das threads**"
      ],
      "metadata": {
        "id": "N3Hfnt5iBQIE"
      }
    },
    {
      "cell_type": "code",
      "source": [
        "#pandas foi utilizada para realizar a leitura de dados\n",
        "import pandas as pd\n",
        "\n",
        "#cache e thread foram usadas para realizar as simulações\n",
        "from cachesim import CacheSimulator, Cache, MainMemory\n",
        "import threading\n",
        "\n",
        "#time foi usada para saber o tempo de execução\n",
        "import time"
      ],
      "metadata": {
        "id": "kz05tDntBOCb"
      },
      "execution_count": 3,
      "outputs": []
    },
    {
      "cell_type": "markdown",
      "source": [
        "#**Importando Endereços**"
      ],
      "metadata": {
        "id": "qTbTkaJIfE2C"
      }
    },
    {
      "cell_type": "markdown",
      "source": [
        "**Importando os endereços do github e verificando os dados**"
      ],
      "metadata": {
        "id": "pgFaUmcLDYus"
      }
    },
    {
      "cell_type": "code",
      "source": [
        "#leitura de endereços\n",
        "enderecos = pd.read_csv('https://raw.githubusercontent.com/jsleocadio/Operational-Systems/main/Project/enderecos.dat', sep='::', engine='python', header=None).rename(columns = {0: 'enderecos'})\n",
        "\n",
        "enderecos.head()"
      ],
      "metadata": {
        "colab": {
          "base_uri": "https://localhost:8080/",
          "height": 206
        },
        "id": "BOXn0lMwDZCD",
        "outputId": "f3f8156d-674c-4b37-8001-f5f4c4a3e2ad"
      },
      "execution_count": 4,
      "outputs": [
        {
          "output_type": "execute_result",
          "data": {
            "text/plain": [
              "   enderecos\n",
              "0          0\n",
              "1          1\n",
              "2          2\n",
              "3          3\n",
              "4          4"
            ],
            "text/html": [
              "\n",
              "  <div id=\"df-c360e5a9-b0da-46c6-b3c9-57a1d36c1974\">\n",
              "    <div class=\"colab-df-container\">\n",
              "      <div>\n",
              "<style scoped>\n",
              "    .dataframe tbody tr th:only-of-type {\n",
              "        vertical-align: middle;\n",
              "    }\n",
              "\n",
              "    .dataframe tbody tr th {\n",
              "        vertical-align: top;\n",
              "    }\n",
              "\n",
              "    .dataframe thead th {\n",
              "        text-align: right;\n",
              "    }\n",
              "</style>\n",
              "<table border=\"1\" class=\"dataframe\">\n",
              "  <thead>\n",
              "    <tr style=\"text-align: right;\">\n",
              "      <th></th>\n",
              "      <th>enderecos</th>\n",
              "    </tr>\n",
              "  </thead>\n",
              "  <tbody>\n",
              "    <tr>\n",
              "      <th>0</th>\n",
              "      <td>0</td>\n",
              "    </tr>\n",
              "    <tr>\n",
              "      <th>1</th>\n",
              "      <td>1</td>\n",
              "    </tr>\n",
              "    <tr>\n",
              "      <th>2</th>\n",
              "      <td>2</td>\n",
              "    </tr>\n",
              "    <tr>\n",
              "      <th>3</th>\n",
              "      <td>3</td>\n",
              "    </tr>\n",
              "    <tr>\n",
              "      <th>4</th>\n",
              "      <td>4</td>\n",
              "    </tr>\n",
              "  </tbody>\n",
              "</table>\n",
              "</div>\n",
              "      <button class=\"colab-df-convert\" onclick=\"convertToInteractive('df-c360e5a9-b0da-46c6-b3c9-57a1d36c1974')\"\n",
              "              title=\"Convert this dataframe to an interactive table.\"\n",
              "              style=\"display:none;\">\n",
              "        \n",
              "  <svg xmlns=\"http://www.w3.org/2000/svg\" height=\"24px\"viewBox=\"0 0 24 24\"\n",
              "       width=\"24px\">\n",
              "    <path d=\"M0 0h24v24H0V0z\" fill=\"none\"/>\n",
              "    <path d=\"M18.56 5.44l.94 2.06.94-2.06 2.06-.94-2.06-.94-.94-2.06-.94 2.06-2.06.94zm-11 1L8.5 8.5l.94-2.06 2.06-.94-2.06-.94L8.5 2.5l-.94 2.06-2.06.94zm10 10l.94 2.06.94-2.06 2.06-.94-2.06-.94-.94-2.06-.94 2.06-2.06.94z\"/><path d=\"M17.41 7.96l-1.37-1.37c-.4-.4-.92-.59-1.43-.59-.52 0-1.04.2-1.43.59L10.3 9.45l-7.72 7.72c-.78.78-.78 2.05 0 2.83L4 21.41c.39.39.9.59 1.41.59.51 0 1.02-.2 1.41-.59l7.78-7.78 2.81-2.81c.8-.78.8-2.07 0-2.86zM5.41 20L4 18.59l7.72-7.72 1.47 1.35L5.41 20z\"/>\n",
              "  </svg>\n",
              "      </button>\n",
              "      \n",
              "  <style>\n",
              "    .colab-df-container {\n",
              "      display:flex;\n",
              "      flex-wrap:wrap;\n",
              "      gap: 12px;\n",
              "    }\n",
              "\n",
              "    .colab-df-convert {\n",
              "      background-color: #E8F0FE;\n",
              "      border: none;\n",
              "      border-radius: 50%;\n",
              "      cursor: pointer;\n",
              "      display: none;\n",
              "      fill: #1967D2;\n",
              "      height: 32px;\n",
              "      padding: 0 0 0 0;\n",
              "      width: 32px;\n",
              "    }\n",
              "\n",
              "    .colab-df-convert:hover {\n",
              "      background-color: #E2EBFA;\n",
              "      box-shadow: 0px 1px 2px rgba(60, 64, 67, 0.3), 0px 1px 3px 1px rgba(60, 64, 67, 0.15);\n",
              "      fill: #174EA6;\n",
              "    }\n",
              "\n",
              "    [theme=dark] .colab-df-convert {\n",
              "      background-color: #3B4455;\n",
              "      fill: #D2E3FC;\n",
              "    }\n",
              "\n",
              "    [theme=dark] .colab-df-convert:hover {\n",
              "      background-color: #434B5C;\n",
              "      box-shadow: 0px 1px 3px 1px rgba(0, 0, 0, 0.15);\n",
              "      filter: drop-shadow(0px 1px 2px rgba(0, 0, 0, 0.3));\n",
              "      fill: #FFFFFF;\n",
              "    }\n",
              "  </style>\n",
              "\n",
              "      <script>\n",
              "        const buttonEl =\n",
              "          document.querySelector('#df-c360e5a9-b0da-46c6-b3c9-57a1d36c1974 button.colab-df-convert');\n",
              "        buttonEl.style.display =\n",
              "          google.colab.kernel.accessAllowed ? 'block' : 'none';\n",
              "\n",
              "        async function convertToInteractive(key) {\n",
              "          const element = document.querySelector('#df-c360e5a9-b0da-46c6-b3c9-57a1d36c1974');\n",
              "          const dataTable =\n",
              "            await google.colab.kernel.invokeFunction('convertToInteractive',\n",
              "                                                     [key], {});\n",
              "          if (!dataTable) return;\n",
              "\n",
              "          const docLinkHtml = 'Like what you see? Visit the ' +\n",
              "            '<a target=\"_blank\" href=https://colab.research.google.com/notebooks/data_table.ipynb>data table notebook</a>'\n",
              "            + ' to learn more about interactive tables.';\n",
              "          element.innerHTML = '';\n",
              "          dataTable['output_type'] = 'display_data';\n",
              "          await google.colab.output.renderOutput(dataTable, element);\n",
              "          const docLink = document.createElement('div');\n",
              "          docLink.innerHTML = docLinkHtml;\n",
              "          element.appendChild(docLink);\n",
              "        }\n",
              "      </script>\n",
              "    </div>\n",
              "  </div>\n",
              "  "
            ]
          },
          "metadata": {},
          "execution_count": 4
        }
      ]
    },
    {
      "cell_type": "markdown",
      "source": [
        "#**Criação da Memória e Função de Mapeamento**"
      ],
      "metadata": {
        "id": "Sf6YFHLrfMKi"
      }
    },
    {
      "cell_type": "markdown",
      "source": [
        "**Criando memória principal**"
      ],
      "metadata": {
        "id": "qFfqJbNQAEOS"
      }
    },
    {
      "cell_type": "code",
      "source": [
        "#memoria principal, com quem a cache irá se comunicar\n",
        "memoria_principal = MainMemory('MemoriaPrincipal')"
      ],
      "metadata": {
        "id": "px-zG4nI_c3D"
      },
      "execution_count": 5,
      "outputs": []
    },
    {
      "cell_type": "markdown",
      "source": [
        "**Função auxiliar que realiza o mapeamento e imprime o resultado**"
      ],
      "metadata": {
        "id": "uE9ma_Kt_n5C"
      }
    },
    {
      "cell_type": "code",
      "source": [
        "def Mapeamento(mm:MainMemory,enderecos,nome:str,conjuntos:int,vias:int,tamanho:int = 4):\n",
        "  #criando cache\n",
        "  cache = Cache(nome, conjuntos, vias, tamanho)\n",
        "\n",
        "  #carregando informações necessárias\n",
        "  mm.load_to(cache)\n",
        "  mm.store_from(cache)\n",
        "\n",
        "  #criando simulador de cache\n",
        "  cs = CacheSimulator(cache, mm)\n",
        "\n",
        "  #percorrendo endereços para serem carregados na cache\n",
        "  for endereco in range(enderecos.size):\n",
        "    cs.load(enderecos.iloc[endereco])\n",
        "\n",
        "  #retornando resultados e printando as informações\n",
        "  cs.force_write_back()\n",
        "  cs.print_stats()\n",
        "  print('\\n')"
      ],
      "metadata": {
        "id": "_QltXn0E_nZK"
      },
      "execution_count": 6,
      "outputs": []
    },
    {
      "cell_type": "markdown",
      "source": [
        "#**Teste de Mapeamentos**"
      ],
      "metadata": {
        "id": "exizq4ZZfTfC"
      }
    },
    {
      "cell_type": "markdown",
      "source": [
        "**Teste de Mapeamento Direto**"
      ],
      "metadata": {
        "id": "7JzD0od0KRRD"
      }
    },
    {
      "cell_type": "code",
      "source": [
        "Mapeamento(memoria_principal,enderecos,'MapeamentoDireto',256,1,4)"
      ],
      "metadata": {
        "id": "6VZDq3anBLD8",
        "colab": {
          "base_uri": "https://localhost:8080/"
        },
        "outputId": "9164a2cf-afa2-417e-d46d-f1e4181f94b2"
      },
      "execution_count": 7,
      "outputs": [
        {
          "output_type": "stream",
          "name": "stdout",
          "text": [
            "CACHE *******HIT******** *******MISS******* *******LOAD******* ******STORE******* ******EVICT*******\n",
            "MapeamentoDireto  10019 (   10019B)   1681 (    1681B)  11700 (   11700B)      0 (       0B)      0 (       0B)\n",
            "MemoriaPrincipal   1681 (    1681B)      0 (       0B)   1681 (    1681B)      0 (       0B)      0 (       0B)\n",
            "\n",
            "\n"
          ]
        }
      ]
    },
    {
      "cell_type": "markdown",
      "source": [
        "**Teste de Mapeamento Associativo em Conjunto 2 Vias**"
      ],
      "metadata": {
        "id": "OeMbcmgwKU4Z"
      }
    },
    {
      "cell_type": "code",
      "source": [
        "Mapeamento(memoria_principal,enderecos,'MapAssoConj2Vias',128,2,4)"
      ],
      "metadata": {
        "id": "TiHNCJ5hKd_R",
        "colab": {
          "base_uri": "https://localhost:8080/"
        },
        "outputId": "4660ec7a-bdbf-405b-d0af-7162cce4c2fa"
      },
      "execution_count": 8,
      "outputs": [
        {
          "output_type": "stream",
          "name": "stdout",
          "text": [
            "CACHE *******HIT******** *******MISS******* *******LOAD******* ******STORE******* ******EVICT*******\n",
            "MapAssoConj2Vias  10019 (   10019B)   1681 (    1681B)  11700 (   11700B)      0 (       0B)      0 (       0B)\n",
            "MemoriaPrincipal   1681 (    1681B)      0 (       0B)   1681 (    1681B)      0 (       0B)      0 (       0B)\n",
            "\n",
            "\n"
          ]
        }
      ]
    },
    {
      "cell_type": "markdown",
      "source": [
        "**Teste de Mapeamento Associativo em Conjunto 4 Vias**"
      ],
      "metadata": {
        "id": "vGCVie_We1TE"
      }
    },
    {
      "cell_type": "code",
      "source": [
        "Mapeamento(memoria_principal,enderecos,'MapAssoConj4Vias',128,4,4)"
      ],
      "metadata": {
        "id": "EaQDVyjJdeny",
        "colab": {
          "base_uri": "https://localhost:8080/"
        },
        "outputId": "1893a679-143f-4b22-e771-ac71b756dbed"
      },
      "execution_count": 9,
      "outputs": [
        {
          "output_type": "stream",
          "name": "stdout",
          "text": [
            "CACHE *******HIT******** *******MISS******* *******LOAD******* ******STORE******* ******EVICT*******\n",
            "MapAssoConj4Vias  10019 (   10019B)   1681 (    1681B)  11700 (   11700B)      0 (       0B)      0 (       0B)\n",
            "MemoriaPrincipal   1681 (    1681B)      0 (       0B)   1681 (    1681B)      0 (       0B)      0 (       0B)\n",
            "\n",
            "\n"
          ]
        }
      ]
    },
    {
      "cell_type": "markdown",
      "source": [
        "**Teste de Mapeamento Associativo em Conjunto 8 Vias**"
      ],
      "metadata": {
        "id": "YqFx2leKMxkm"
      }
    },
    {
      "cell_type": "code",
      "source": [
        "Mapeamento(memoria_principal,enderecos,'MapAssoConj8Vias',128,8,4)"
      ],
      "metadata": {
        "colab": {
          "base_uri": "https://localhost:8080/"
        },
        "id": "EDzcZOGNMyHY",
        "outputId": "ad7dd1b0-9b9d-43e7-8813-c5e08bdb27d1"
      },
      "execution_count": 10,
      "outputs": [
        {
          "output_type": "stream",
          "name": "stdout",
          "text": [
            "CACHE *******HIT******** *******MISS******* *******LOAD******* ******STORE******* ******EVICT*******\n",
            "MapAssoConj8Vias  10019 (   10019B)   1681 (    1681B)  11700 (   11700B)      0 (       0B)      0 (       0B)\n",
            "MemoriaPrincipal   1681 (    1681B)      0 (       0B)   1681 (    1681B)      0 (       0B)      0 (       0B)\n",
            "\n",
            "\n"
          ]
        }
      ]
    },
    {
      "cell_type": "markdown",
      "source": [
        "**Teste de Mapeamento Associativo em Conjunto 16 Vias**"
      ],
      "metadata": {
        "id": "aj9MgIqeNMeU"
      }
    },
    {
      "cell_type": "code",
      "source": [
        "Mapeamento(memoria_principal,enderecos,'MapAssoConj16Vias',128,16,4)"
      ],
      "metadata": {
        "colab": {
          "base_uri": "https://localhost:8080/"
        },
        "id": "YRKu9RCdNQlI",
        "outputId": "a0d7f20a-03e4-4806-9081-2b9790190637"
      },
      "execution_count": 11,
      "outputs": [
        {
          "output_type": "stream",
          "name": "stdout",
          "text": [
            "CACHE *******HIT******** *******MISS******* *******LOAD******* ******STORE******* ******EVICT*******\n",
            "MapAssoConj16Vias  10019 (   10019B)   1681 (    1681B)  11700 (   11700B)      0 (       0B)      0 (       0B)\n",
            "MemoriaPrincipal   1681 (    1681B)      0 (       0B)   1681 (    1681B)      0 (       0B)      0 (       0B)\n",
            "\n",
            "\n"
          ]
        }
      ]
    },
    {
      "cell_type": "markdown",
      "source": [
        "**Teste de Mapeamento Totalmente Associativo**"
      ],
      "metadata": {
        "id": "fxExFY5De21c"
      }
    },
    {
      "cell_type": "code",
      "source": [
        "Mapeamento(memoria_principal,enderecos,'MapTotAss',1,2,4)"
      ],
      "metadata": {
        "id": "1tCu_CHIehg7",
        "colab": {
          "base_uri": "https://localhost:8080/"
        },
        "outputId": "24ea10a2-172f-414c-83d9-e5c82c86e392"
      },
      "execution_count": 12,
      "outputs": [
        {
          "output_type": "stream",
          "name": "stdout",
          "text": [
            "CACHE *******HIT******** *******MISS******* *******LOAD******* ******STORE******* ******EVICT*******\n",
            "MapTotAss   8775 (    8775B)   2925 (    2925B)  11700 (   11700B)      0 (       0B)      0 (       0B)\n",
            "MemoriaPrincipal   2925 (    2925B)      0 (       0B)   2925 (    2925B)      0 (       0B)      0 (       0B)\n",
            "\n",
            "\n"
          ]
        }
      ]
    },
    {
      "cell_type": "markdown",
      "source": [
        "#**Teste de Threads com Sincronização**"
      ],
      "metadata": {
        "id": "Zsp5fg8Xhshr"
      }
    },
    {
      "cell_type": "markdown",
      "source": [
        "**Exemplo do site Geeks For Geeks, com utilização do método Lock( ) para bloquear o acesso de uma thread a variável global. Lock possui acquire( ) para bloquear ou não uma thread e release( ) para desbloquear uma thread.**"
      ],
      "metadata": {
        "id": "FIcWrD3n_e3Y"
      }
    },
    {
      "cell_type": "markdown",
      "source": [
        "**O método Lock( ) permite implementar a sincronização de threads. O acquire( ) força as threads a funcionarem sincronizadamente.**"
      ],
      "metadata": {
        "id": "ZyKmNFT-M7PF"
      }
    },
    {
      "cell_type": "code",
      "source": [
        "#variavel global\n",
        "x = 0\n",
        "  \n",
        "def increment():\n",
        "    \"\"\"\n",
        "    funcao que uncrementa a variavel global x\n",
        "    \"\"\"\n",
        "    global x\n",
        "    x += 1\n",
        "  \n",
        "def thread_task(lock):\n",
        "    \"\"\"\n",
        "    tarefa da trade\n",
        "    chamadas de incremento 100000 repetições.\n",
        "    \"\"\"\n",
        "    for _ in range(100000):\n",
        "        lock.acquire()\n",
        "        increment()\n",
        "        lock.release()\n",
        "  \n",
        "def main_task():\n",
        "    global x\n",
        "    #iniciando a variavel global como 0\n",
        "    x = 0\n",
        "  \n",
        "    #criando o lock\n",
        "    lock = threading.Lock()\n",
        "  \n",
        "    #criando as threads\n",
        "    t1 = threading.Thread(target=thread_task, args=(lock,))\n",
        "    t2 = threading.Thread(target=thread_task, args=(lock,))\n",
        "  \n",
        "    #iniciando as threads\n",
        "    t1.start()\n",
        "    t2.start()\n",
        "  \n",
        "    #aguardando a finalização das threads\n",
        "    t1.join()\n",
        "    t2.join()\n",
        "  \n",
        "if __name__ == \"__main__\":\n",
        "    for i in range(10):\n",
        "        main_task()\n",
        "        print(\"Iterações {0}: x = {1}\".format(i,x))"
      ],
      "metadata": {
        "id": "MicYazB4h0d7",
        "colab": {
          "base_uri": "https://localhost:8080/"
        },
        "outputId": "01de4320-43d6-4548-d3a8-40995e4316e8"
      },
      "execution_count": 13,
      "outputs": [
        {
          "output_type": "stream",
          "name": "stdout",
          "text": [
            "Iterações 0: x = 200000\n",
            "Iterações 1: x = 200000\n",
            "Iterações 2: x = 200000\n",
            "Iterações 3: x = 200000\n",
            "Iterações 4: x = 200000\n",
            "Iterações 5: x = 200000\n",
            "Iterações 6: x = 200000\n",
            "Iterações 7: x = 200000\n",
            "Iterações 8: x = 200000\n",
            "Iterações 9: x = 200000\n"
          ]
        }
      ]
    },
    {
      "cell_type": "markdown",
      "source": [
        "**Caso não utilizado a sincronização das threads, os valores impressos seriam diferentes do esperado.**"
      ],
      "metadata": {
        "id": "YjZgJntLNvaJ"
      }
    },
    {
      "cell_type": "markdown",
      "source": [
        "#**Simulação dos Mapeamentos com Threads**"
      ],
      "metadata": {
        "id": "-6mxo7DFGoDK"
      }
    },
    {
      "cell_type": "markdown",
      "source": [
        "**Verificando lista de Endereços e a Memória Principal**"
      ],
      "metadata": {
        "id": "ijR9_LGIHcNh"
      }
    },
    {
      "cell_type": "code",
      "source": [
        "enderecos.head()"
      ],
      "metadata": {
        "colab": {
          "base_uri": "https://localhost:8080/",
          "height": 206
        },
        "id": "UhMLvFYUGw0x",
        "outputId": "972434aa-acd3-4797-80ef-14b2083827f9"
      },
      "execution_count": 14,
      "outputs": [
        {
          "output_type": "execute_result",
          "data": {
            "text/plain": [
              "   enderecos\n",
              "0          0\n",
              "1          1\n",
              "2          2\n",
              "3          3\n",
              "4          4"
            ],
            "text/html": [
              "\n",
              "  <div id=\"df-812ce70f-9b72-447a-a3aa-f60664d654ed\">\n",
              "    <div class=\"colab-df-container\">\n",
              "      <div>\n",
              "<style scoped>\n",
              "    .dataframe tbody tr th:only-of-type {\n",
              "        vertical-align: middle;\n",
              "    }\n",
              "\n",
              "    .dataframe tbody tr th {\n",
              "        vertical-align: top;\n",
              "    }\n",
              "\n",
              "    .dataframe thead th {\n",
              "        text-align: right;\n",
              "    }\n",
              "</style>\n",
              "<table border=\"1\" class=\"dataframe\">\n",
              "  <thead>\n",
              "    <tr style=\"text-align: right;\">\n",
              "      <th></th>\n",
              "      <th>enderecos</th>\n",
              "    </tr>\n",
              "  </thead>\n",
              "  <tbody>\n",
              "    <tr>\n",
              "      <th>0</th>\n",
              "      <td>0</td>\n",
              "    </tr>\n",
              "    <tr>\n",
              "      <th>1</th>\n",
              "      <td>1</td>\n",
              "    </tr>\n",
              "    <tr>\n",
              "      <th>2</th>\n",
              "      <td>2</td>\n",
              "    </tr>\n",
              "    <tr>\n",
              "      <th>3</th>\n",
              "      <td>3</td>\n",
              "    </tr>\n",
              "    <tr>\n",
              "      <th>4</th>\n",
              "      <td>4</td>\n",
              "    </tr>\n",
              "  </tbody>\n",
              "</table>\n",
              "</div>\n",
              "      <button class=\"colab-df-convert\" onclick=\"convertToInteractive('df-812ce70f-9b72-447a-a3aa-f60664d654ed')\"\n",
              "              title=\"Convert this dataframe to an interactive table.\"\n",
              "              style=\"display:none;\">\n",
              "        \n",
              "  <svg xmlns=\"http://www.w3.org/2000/svg\" height=\"24px\"viewBox=\"0 0 24 24\"\n",
              "       width=\"24px\">\n",
              "    <path d=\"M0 0h24v24H0V0z\" fill=\"none\"/>\n",
              "    <path d=\"M18.56 5.44l.94 2.06.94-2.06 2.06-.94-2.06-.94-.94-2.06-.94 2.06-2.06.94zm-11 1L8.5 8.5l.94-2.06 2.06-.94-2.06-.94L8.5 2.5l-.94 2.06-2.06.94zm10 10l.94 2.06.94-2.06 2.06-.94-2.06-.94-.94-2.06-.94 2.06-2.06.94z\"/><path d=\"M17.41 7.96l-1.37-1.37c-.4-.4-.92-.59-1.43-.59-.52 0-1.04.2-1.43.59L10.3 9.45l-7.72 7.72c-.78.78-.78 2.05 0 2.83L4 21.41c.39.39.9.59 1.41.59.51 0 1.02-.2 1.41-.59l7.78-7.78 2.81-2.81c.8-.78.8-2.07 0-2.86zM5.41 20L4 18.59l7.72-7.72 1.47 1.35L5.41 20z\"/>\n",
              "  </svg>\n",
              "      </button>\n",
              "      \n",
              "  <style>\n",
              "    .colab-df-container {\n",
              "      display:flex;\n",
              "      flex-wrap:wrap;\n",
              "      gap: 12px;\n",
              "    }\n",
              "\n",
              "    .colab-df-convert {\n",
              "      background-color: #E8F0FE;\n",
              "      border: none;\n",
              "      border-radius: 50%;\n",
              "      cursor: pointer;\n",
              "      display: none;\n",
              "      fill: #1967D2;\n",
              "      height: 32px;\n",
              "      padding: 0 0 0 0;\n",
              "      width: 32px;\n",
              "    }\n",
              "\n",
              "    .colab-df-convert:hover {\n",
              "      background-color: #E2EBFA;\n",
              "      box-shadow: 0px 1px 2px rgba(60, 64, 67, 0.3), 0px 1px 3px 1px rgba(60, 64, 67, 0.15);\n",
              "      fill: #174EA6;\n",
              "    }\n",
              "\n",
              "    [theme=dark] .colab-df-convert {\n",
              "      background-color: #3B4455;\n",
              "      fill: #D2E3FC;\n",
              "    }\n",
              "\n",
              "    [theme=dark] .colab-df-convert:hover {\n",
              "      background-color: #434B5C;\n",
              "      box-shadow: 0px 1px 3px 1px rgba(0, 0, 0, 0.15);\n",
              "      filter: drop-shadow(0px 1px 2px rgba(0, 0, 0, 0.3));\n",
              "      fill: #FFFFFF;\n",
              "    }\n",
              "  </style>\n",
              "\n",
              "      <script>\n",
              "        const buttonEl =\n",
              "          document.querySelector('#df-812ce70f-9b72-447a-a3aa-f60664d654ed button.colab-df-convert');\n",
              "        buttonEl.style.display =\n",
              "          google.colab.kernel.accessAllowed ? 'block' : 'none';\n",
              "\n",
              "        async function convertToInteractive(key) {\n",
              "          const element = document.querySelector('#df-812ce70f-9b72-447a-a3aa-f60664d654ed');\n",
              "          const dataTable =\n",
              "            await google.colab.kernel.invokeFunction('convertToInteractive',\n",
              "                                                     [key], {});\n",
              "          if (!dataTable) return;\n",
              "\n",
              "          const docLinkHtml = 'Like what you see? Visit the ' +\n",
              "            '<a target=\"_blank\" href=https://colab.research.google.com/notebooks/data_table.ipynb>data table notebook</a>'\n",
              "            + ' to learn more about interactive tables.';\n",
              "          element.innerHTML = '';\n",
              "          dataTable['output_type'] = 'display_data';\n",
              "          await google.colab.output.renderOutput(dataTable, element);\n",
              "          const docLink = document.createElement('div');\n",
              "          docLink.innerHTML = docLinkHtml;\n",
              "          element.appendChild(docLink);\n",
              "        }\n",
              "      </script>\n",
              "    </div>\n",
              "  </div>\n",
              "  "
            ]
          },
          "metadata": {},
          "execution_count": 14
        }
      ]
    },
    {
      "cell_type": "code",
      "source": [
        "print(memoria_principal)\n",
        "print(memoria_principal.name)"
      ],
      "metadata": {
        "colab": {
          "base_uri": "https://localhost:8080/"
        },
        "id": "Cv7MggOvHp5w",
        "outputId": "3946501a-273b-4d12-9bb0-1b74627aedee"
      },
      "execution_count": 15,
      "outputs": [
        {
          "output_type": "stream",
          "name": "stdout",
          "text": [
            "MainMemory(last_level_load=MapTotAss, last_level_store=MapTotAss)\n",
            "MemoriaPrincipal\n"
          ]
        }
      ]
    },
    {
      "cell_type": "markdown",
      "source": [
        "**Na função TarefaThread, temos:**\n",
        "\n",
        "**@param lock que recebe um threading.Lock()**\n",
        "\n",
        "**@param mapeamento recebe um inteiro associado ao mapeamento:**\n",
        "\n",
        "**1 - Mapeamento Direto**\n",
        "\n",
        "**2 - Mapeamento Associativo em conjunto com 2 vias**\n",
        "\n",
        "**3 - Mapeamento Associativo em conjunto com 4 vias**\n",
        "\n",
        "**4 - Mapeamento Associativo em conjunto com 8 vias**\n",
        "\n",
        "**3 - Mapeamento Associativo em conjunto com 16 vias**\n",
        "\n",
        "**6 - Mapeamento Totalmente Associativo**"
      ],
      "metadata": {
        "id": "fqMrMmK7JOmo"
      }
    },
    {
      "cell_type": "markdown",
      "source": [
        "**Tempo de execução**"
      ],
      "metadata": {
        "id": "B936xD8rPf9G"
      }
    },
    {
      "cell_type": "code",
      "source": [
        "#tempo de execução para cada simulação\n",
        "tempoExecucao = {'1':[],'2':[],'3':[],'4':[],'5':[],'6':[]}"
      ],
      "metadata": {
        "id": "atfUB6jZkqXz"
      },
      "execution_count": 16,
      "outputs": []
    },
    {
      "cell_type": "code",
      "source": [
        "def TarefaThread(lock,mapeamento:int):\n",
        "  #bloqueando thread\n",
        "  lock.acquire()\n",
        "  #tempo de execução iniciado\n",
        "  tempo = 0\n",
        "  inicio = time.time()\n",
        "  #selecionando o mapeamento a ser realizado\n",
        "  if mapeamento == 1:\n",
        "    Mapeamento(memoria_principal,enderecos,'MapeamentoDireto',256,1,4)\n",
        "  elif mapeamento == 2:\n",
        "    Mapeamento(memoria_principal,enderecos,'MapAssoConj2Vias',128,2,4)\n",
        "  elif mapeamento == 3:\n",
        "    Mapeamento(memoria_principal,enderecos,'MapAssoConj4Vias',128,4,4)\n",
        "  elif mapeamento == 4:\n",
        "    Mapeamento(memoria_principal,enderecos,'MapAssoConj8Vias',128,8,4)\n",
        "  elif mapeamento == 5:\n",
        "    Mapeamento(memoria_principal,enderecos,'MapAssoConj16Vias',128,16,4)\n",
        "  elif mapeamento == 6:\n",
        "    Mapeamento(memoria_principal,enderecos,'MapTotAss',1,2,4)\n",
        "  else:\n",
        "    pass\n",
        "  #tempo final de execução\n",
        "  fim = time.time()\n",
        "  tempo = fim - inicio\n",
        "  #armazenando o tempo final\n",
        "  tempoExecucao[str(mapeamento)].append(tempo)\n",
        "  #desbloqueando a thread\n",
        "  lock.release()"
      ],
      "metadata": {
        "id": "OZT3LCGlIvC_"
      },
      "execution_count": 17,
      "outputs": []
    },
    {
      "cell_type": "markdown",
      "source": [
        "**Tarefa principal / Thread principal**\n",
        "\n",
        "**Memória Principal como variável global**"
      ],
      "metadata": {
        "id": "2sqsnMOJK-UY"
      }
    },
    {
      "cell_type": "code",
      "source": [
        "def TarefaPrincipal():\n",
        "  #criando uma memória principal para ser utilizada pelas threads\n",
        "  global memoria_principal\n",
        "  memoria_principal = MainMemory('MemoriaPrincipal')\n",
        "\n",
        "  #metodo de sincronização\n",
        "  lock = threading.Lock()\n",
        "\n",
        "  #criando as threads\n",
        "  threadMD = threading.Thread(target=TarefaThread, args=(lock,1))\n",
        "  threadMAC2V = threading.Thread(target=TarefaThread, args=(lock,2))\n",
        "  threadMAC4V = threading.Thread(target=TarefaThread, args=(lock,3))\n",
        "  threadMAC8V = threading.Thread(target=TarefaThread, args=(lock,4))\n",
        "  threadMAC16V = threading.Thread(target=TarefaThread, args=(lock,5))\n",
        "  threadMTA = threading.Thread(target=TarefaThread, args=(lock,6))\n",
        "  #iniciando as threads\n",
        "  threadMD.start()\n",
        "  threadMAC2V.start()\n",
        "  threadMAC4V.start()\n",
        "  threadMAC8V.start()\n",
        "  threadMAC16V.start()\n",
        "  threadMTA.start()\n",
        "  #encerrando as threads\n",
        "  threadMD.join()\n",
        "  threadMAC2V.join()\n",
        "  threadMAC4V.join()\n",
        "  threadMAC8V.join()\n",
        "  threadMAC16V.join()\n",
        "  threadMTA.join()"
      ],
      "metadata": {
        "id": "GJTPW7NQLQXf"
      },
      "execution_count": 18,
      "outputs": []
    },
    {
      "cell_type": "markdown",
      "source": [
        "**Executando Simulação**"
      ],
      "metadata": {
        "id": "G3VZ-wmnMZCg"
      }
    },
    {
      "cell_type": "code",
      "source": [
        "if __name__ == \"__main__\":\n",
        "  TarefaPrincipal() \n",
        "\n",
        "  df = pd.DataFrame(data=tempoExecucao)\n",
        "\n",
        "  print(df)\n",
        "  df.rename(columns = {'1':'Map Dir','2':'Map AC2V','3':'Map AC4V','4':'Map AC8V','5':'Map AC16V','6':'Map TA'}, inplace = True)\n",
        "  print(f'\\n{df}')\n",
        "\n",
        "  df.plot(kind='hist')"
      ],
      "metadata": {
        "colab": {
          "base_uri": "https://localhost:8080/",
          "height": 872
        },
        "id": "fnJAYAjuMV9g",
        "outputId": "a9607070-67b0-4e48-d623-34f9e9cd1655"
      },
      "execution_count": 19,
      "outputs": [
        {
          "output_type": "stream",
          "name": "stdout",
          "text": [
            "CACHE *******HIT******** *******MISS******* *******LOAD******* ******STORE******* ******EVICT*******\n",
            "MapeamentoDireto  10019 (   10019B)   1681 (    1681B)  11700 (   11700B)      0 (       0B)      0 (       0B)\n",
            "MemoriaPrincipal   1681 (    1681B)      0 (       0B)   1681 (    1681B)      0 (       0B)      0 (       0B)\n",
            "\n",
            "\n",
            "CACHE *******HIT******** *******MISS******* *******LOAD******* ******STORE******* ******EVICT*******\n",
            "MapAssoConj2Vias  10019 (   10019B)   1681 (    1681B)  11700 (   11700B)      0 (       0B)      0 (       0B)\n",
            "MemoriaPrincipal   1681 (    1681B)      0 (       0B)   1681 (    1681B)      0 (       0B)      0 (       0B)\n",
            "\n",
            "\n",
            "CACHE *******HIT******** *******MISS******* *******LOAD******* ******STORE******* ******EVICT*******\n",
            "MapAssoConj4Vias  10019 (   10019B)   1681 (    1681B)  11700 (   11700B)      0 (       0B)      0 (       0B)\n",
            "MemoriaPrincipal   1681 (    1681B)      0 (       0B)   1681 (    1681B)      0 (       0B)      0 (       0B)\n",
            "\n",
            "\n",
            "CACHE *******HIT******** *******MISS******* *******LOAD******* ******STORE******* ******EVICT*******\n",
            "MapAssoConj8Vias  10019 (   10019B)   1681 (    1681B)  11700 (   11700B)      0 (       0B)      0 (       0B)\n",
            "MemoriaPrincipal   1681 (    1681B)      0 (       0B)   1681 (    1681B)      0 (       0B)      0 (       0B)\n",
            "\n",
            "\n",
            "CACHE *******HIT******** *******MISS******* *******LOAD******* ******STORE******* ******EVICT*******\n",
            "MapAssoConj16Vias  10019 (   10019B)   1681 (    1681B)  11700 (   11700B)      0 (       0B)      0 (       0B)\n",
            "MemoriaPrincipal   1681 (    1681B)      0 (       0B)   1681 (    1681B)      0 (       0B)      0 (       0B)\n",
            "\n",
            "\n",
            "CACHE *******HIT******** *******MISS******* *******LOAD******* ******STORE******* ******EVICT*******\n",
            "MapTotAss   8775 (    8775B)   2925 (    2925B)  11700 (   11700B)      0 (       0B)      0 (       0B)\n",
            "MemoriaPrincipal   2925 (    2925B)      0 (       0B)   2925 (    2925B)      0 (       0B)      0 (       0B)\n",
            "\n",
            "\n",
            "          1         2         3        4         5         6\n",
            "0  0.811717  0.818418  0.816289  0.82054  0.807687  0.805412\n",
            "\n",
            "    Map Dir  Map AC2V  Map AC4V  Map AC8V  Map AC16V    Map TA\n",
            "0  0.811717  0.818418  0.816289   0.82054   0.807687  0.805412\n"
          ]
        },
        {
          "output_type": "display_data",
          "data": {
            "text/plain": [
              "<Figure size 432x288 with 1 Axes>"
            ],
            "image/png": "[encoded data removed]"
          },
          "metadata": {
            "needs_background": "light"
          }
        }
      ]
    }
  ]
}
